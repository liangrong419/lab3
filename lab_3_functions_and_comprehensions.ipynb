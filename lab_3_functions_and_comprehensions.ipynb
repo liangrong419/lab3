{
  "nbformat": 4,
  "nbformat_minor": 0,
  "metadata": {
    "anaconda-cloud": {},
    "kernelspec": {
      "display_name": "Python 3",
      "language": "python",
      "name": "python3"
    },
    "language_info": {
      "codemirror_mode": {
        "name": "ipython",
        "version": 3
      },
      "file_extension": ".py",
      "mimetype": "text/x-python",
      "name": "python",
      "nbconvert_exporter": "python",
      "pygments_lexer": "ipython3",
      "version": "3.7.2"
    },
    "colab": {
      "name": "lab_3_functions_and_comprehensions.ipynb",
      "provenance": [],
      "include_colab_link": true
    }
  },
  "cells": [
    {
      "cell_type": "markdown",
      "metadata": {
        "id": "view-in-github",
        "colab_type": "text"
      },
      "source": [
        "<a href=\"https://colab.research.google.com/github/liangrong419/lab3/blob/master/lab_3_functions_and_comprehensions.ipynb\" target=\"_parent\"><img src=\"https://colab.research.google.com/assets/colab-badge.svg\" alt=\"Open In Colab\"/></a>"
      ]
    },
    {
      "cell_type": "markdown",
      "metadata": {
        "id": "TQV9V_RStTwr",
        "colab_type": "text"
      },
      "source": [
        "# Lab 3 - Function and List Comprehension Exercises\n",
        "\n",
        "Please complete each exercise and submit your work on D2L.\n",
        "\n",
        "**Rules:**\n",
        "\n",
        "1. All functions should be defined with `lambda` (only test functions should use `def` statements.)\n",
        "2. Each function should be accompanied by test function that covers normal and edge cases."
      ]
    },
    {
      "cell_type": "markdown",
      "metadata": {
        "id": "hs_sZE7ltTwu",
        "colab_type": "text"
      },
      "source": [
        "### <font color='red'> Exercise 1 </font>\n",
        "\n",
        "Write a function `sum_of_squares` that computes the sum of the squares of the numbers in the input list. *Use a helper function in your solution*\n",
        "\n",
        "\n",
        "**Example** `sum_of_squares([2, 3, 4]) === 4 + 9 + 16`  **HINT:** Use a comprehension to square the values and `sum` to compute the sum."
      ]
    },
    {
      "cell_type": "code",
      "metadata": {
        "id": "MNtOXwbqtTww",
        "colab_type": "code",
        "colab": {}
      },
      "source": [
        "sum_of_squares = lambda x: sum([y**2 for y in x])\n",
        "def test_sum_of_squares():\n",
        "  assert sum_of_squares(range(1))==0\n",
        "  assert sum_of_squares(range(2))==1\n",
        "  assert sum_of_squares([1, 10, 100])==10101\n",
        "test_sum_of_squares()"
      ],
      "execution_count": 9,
      "outputs": []
    },
    {
      "cell_type": "markdown",
      "metadata": {
        "id": "GRkOnMQetTw3",
        "colab_type": "text"
      },
      "source": [
        "### <font color=\"red\"> Exercise 2 </font>\n",
        "\n",
        "Write a function called `sum_even` that sums up all the even numbers in a list.  Include helper functions in your solution.\n",
        "\n",
        "**Example** `sum_even([1,2,3,4]) == 6`\n",
        "\n",
        "**Hint** You need a filter here."
      ]
    },
    {
      "cell_type": "code",
      "metadata": {
        "id": "qP6wPyMktTw4",
        "colab_type": "code",
        "colab": {}
      },
      "source": [
        "sum_even = lambda x: sum(y for y in x if (y%2)==0)\n",
        "def test_sum_even():\n",
        "  assert sum_even(range(2)) == 0\n",
        "  assert sum_even([1,2,3,4,5]) == 6\n",
        "  assert sum_even([1, 100, 101, 200, 3]) == 300\n",
        "test_sum_even()\n"
      ],
      "execution_count": 8,
      "outputs": []
    },
    {
      "cell_type": "markdown",
      "metadata": {
        "id": "87qRAgWqtTw_",
        "colab_type": "text"
      },
      "source": [
        "### <font color=\"red\"> Exercise 3 </font>\n",
        "\n",
        "Write a function called `freq` that takes a value `a` and a list `L` as arguments and returns the number of times `a` occurs in `L`.\n",
        "\n",
        "**Example** `freq(1,[1,2,1,3,4]) == 2`\n",
        "\n",
        "**Hint** Use a filter in your comprehension and the `len` function"
      ]
    },
    {
      "cell_type": "code",
      "metadata": {
        "id": "_P9ggMtXtTxA",
        "colab_type": "code",
        "colab": {}
      },
      "source": [
        "freq = lambda a, L: len([z for z in L if z==a])\n",
        "def test_freq():\n",
        "  assert freq(1, [1,2,1,3,4]) == 2\n",
        "  assert freq(2, range(5)) == 1\n",
        "  assert freq(2, [2,2,2,2,2,2]) == 6\n",
        "test_freq()\n"
      ],
      "execution_count": 20,
      "outputs": []
    },
    {
      "cell_type": "markdown",
      "metadata": {
        "id": "W0XPBRdHtTxE",
        "colab_type": "text"
      },
      "source": [
        "### <font color=\"red\"> Exercise 4 </font>\n",
        "\n",
        "Write a function called `between` that takes value `a`, `b` and a list `L` as arguments and returns `True` when all of the elements of `L` that strictly between `a` and `b`.\n",
        "\n",
        "**Example** `between(0, 5,[1,2,1,3,4]) == True`\n",
        "\n",
        "**Hint** Use a boolean expresion and the `all` function."
      ]
    },
    {
      "cell_type": "code",
      "metadata": {
        "id": "FIBHXr1MtTxF",
        "colab_type": "code",
        "colab": {}
      },
      "source": [
        "between = lambda a, b, L: any([all(a<x<b for x in L), all(b<x<a for x in L)])\n",
        "def test_between():\n",
        "  assert between(0, 5, [1,2,1,3,4]) == True\n",
        "  assert between(5, 0, [1,2,1,3,4]) == True\n",
        "  assert between(1, 5, [1,2,1,3,4]) == False\n",
        "  assert between(5, 1, [1,2,1,3,4]) == False\n",
        "test_between()\n",
        "\n"
      ],
      "execution_count": 33,
      "outputs": []
    }
  ]
}